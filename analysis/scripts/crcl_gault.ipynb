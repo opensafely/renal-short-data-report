{
 "cells": [
  {
   "cell_type": "code",
   "execution_count": null,
   "id": "e22bf2c4",
   "metadata": {},
   "outputs": [],
   "source": [
    "import pandas as pd"
   ]
  },
  {
   "cell_type": "code",
   "execution_count": null,
   "id": "6389e641",
   "metadata": {},
   "outputs": [],
   "source": [
    "df = pd.read_csv(\"../../output/input_calculators_calculated.csv.gz\", parse_dates = [\"creatinine_numeric_value_date\", \"creatinine_clearance_numeric_value_date\"])"
   ]
  },
  {
   "cell_type": "markdown",
   "id": "babb2205",
   "metadata": {},
   "source": [
    "Find all people with creatinine recorded in last year. How many have creatinine clearance recorded?"
   ]
  },
  {
   "cell_type": "code",
   "execution_count": null,
   "id": "04eea3df",
   "metadata": {},
   "outputs": [
    {
     "name": "stdout",
     "output_type": "stream",
     "text": [
      "162 have creatinine in last year\n",
      "with crcl on or after creatinine: 7\n"
     ]
    }
   ],
   "source": [
    "subset = df.loc[df[\"creatinine_numeric_value_date\"] > \"2021-07-01\",:]\n",
    "print(f\"{len(subset)} have creatinine in last year\")\n",
    "\n",
    "subset_with_crcl = subset.loc[subset[\"creatinine_clearance_numeric_value_date\"] >= subset[\"creatinine_numeric_value_date\"],:]\n",
    "print(f\"with crcl on or after creatinine: {len(subset_with_crcl)}\")"
   ]
  }
 ],
 "metadata": {
  "kernelspec": {
   "display_name": "Python 3",
   "language": "python",
   "name": "python3"
  }
 },
 "nbformat": 4,
 "nbformat_minor": 5
}
