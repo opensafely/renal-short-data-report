{
 "cells": [
  {
   "cell_type": "code",
   "execution_count": 15,
   "id": "e22bf2c4",
   "metadata": {},
   "outputs": [],
   "source": [
    "import pandas as pd\n",
    "import seaborn as sns\n",
    "import numpy as np\n",
    "import matplotlib.pyplot as plt"
   ]
  },
  {
   "cell_type": "code",
   "execution_count": 16,
   "id": "6389e641",
   "metadata": {},
   "outputs": [],
   "source": [
    "df = pd.read_csv(\"../../output/input_calculators_calculated.csv.gz\", parse_dates = [\"creatinine_numeric_value_date\", \"creatinine_clearance_numeric_value_date\"])"
   ]
  },
  {
   "cell_type": "markdown",
   "id": "babb2205",
   "metadata": {},
   "source": [
    "Find all people with creatinine recorded in last year. How many have creatinine clearance recorded?"
   ]
  },
  {
   "cell_type": "code",
   "execution_count": 17,
   "id": "04eea3df",
   "metadata": {},
   "outputs": [
    {
     "name": "stdout",
     "output_type": "stream",
     "text": [
      "160 have creatinine in last year\n",
      "with crcl on or after creatinine: 11\n"
     ]
    }
   ],
   "source": [
    "subset = df.loc[df[\"creatinine_numeric_value_date\"] > \"2021-07-01\",:]\n",
    "print(f\"{len(subset)} have creatinine in last year\")\n",
    "\n",
    "subset_with_crcl = subset.loc[subset[\"creatinine_clearance_numeric_value_date\"] >= subset[\"creatinine_numeric_value_date\"],:]\n",
    "print(f\"with crcl on or after creatinine: {len(subset_with_crcl)}\")"
   ]
  },
  {
   "cell_type": "markdown",
   "id": "c74c69a6",
   "metadata": {},
   "source": [
    "Creatinine clearance recorded vs creatinine clearance calculated"
   ]
  },
  {
   "cell_type": "code",
   "execution_count": 19,
   "id": "8c59ea2c",
   "metadata": {},
   "outputs": [
    {
     "data": {
      "image/png": "[encoded data removed]",
      "text/plain": [
       "<Figure size 432x288 with 1 Axes>"
      ]
     },
     "metadata": {
      "needs_background": "light"
     },
     "output_type": "display_data"
    },
    {
     "data": {
      "text/plain": [
       "<Figure size 432x288 with 0 Axes>"
      ]
     },
     "metadata": {},
     "output_type": "display_data"
    }
   ],
   "source": [
    "latest_crcl_calculated = df[\"cg\"][df[\"cg\"].notnull()]\n",
    "latest_crcl_recorded = df[\"creatinine_clearance_numeric_value\"][df[\"creatinine_clearance_numeric_value\"].notnull()\n",
    "]\n",
    "\n",
    "percentiles = np.arange(0.01, 0.99, 0.01)\n",
    "percentile_values_crcl_calculated = np.quantile(a=latest_crcl_calculated, q=percentiles)\n",
    "percentile_values_crcl_recorded = np.quantile(a=latest_crcl_recorded, q=percentiles)\n",
    "\n",
    "violin_df = pd.DataFrame({\n",
    "    \"Calculated\": pd.Series(percentile_values_crcl_calculated),\n",
    "    \"Recorded\": pd.Series(percentile_values_crcl_recorded)\n",
    "})\n",
    "\n",
    "sns.violinplot(data=violin_df, cut=0, inner=None)\n",
    "plt.title(\"CrCl Calculated vs Recorded\")\n",
    "plt.ylabel(\"numeric value\")\n",
    "# plt.savefig(OUTPUT_DIR / f\"violin_plot_crcl_recorded_vs_calculated.png\")\n",
    "plt.show()\n",
    "plt.clf()\n",
    "\n",
    "\n",
    "\n"
   ]
  },
  {
   "cell_type": "code",
   "execution_count": 22,
   "id": "182d8dde",
   "metadata": {},
   "outputs": [
    {
     "data": {
      "text/plain": [
       "<function matplotlib.pyplot.show(close=None, block=None)>"
      ]
     },
     "execution_count": 22,
     "metadata": {},
     "output_type": "execute_result"
    },
    {
     "data": {
      "image/png": "[encoded data removed]",
      "text/plain": [
       "<Figure size 432x288 with 1 Axes>"
      ]
     },
     "metadata": {},
     "output_type": "display_data"
    }
   ],
   "source": [
    "import matplotlib.pyplot as plt\n",
    "from matplotlib_venn import venn2\n",
    "\n",
    "num_people_just_recorded = df.loc[((df[\"creatinine_clearance_numeric_value\"].notnull()) & (df[\"creatinine_clearance_numeric_value\"]> 0) & (df[\"cg\"].isnull())),:]\n",
    "num_people_just_calculated = df.loc[((df[\"cg\"].notnull()) & (df[\"cg\"]> 0) & ((df[\"creatinine_clearance_numeric_value\"].isnull())) | (df[\"creatinine_clearance_numeric_value\"]==0)),:]\n",
    "num_people_both = df.loc[(df[\"cg\"].notnull()) & (df[\"cg\"]> 0) & ((df[\"creatinine_clearance_numeric_value\"].notnull()) & (df[\"creatinine_clearance_numeric_value\"]> 0)),:]\n",
    "\n",
    "venn2(subsets = (len(num_people_just_recorded), len(num_people_just_calculated), len(num_people_both)), set_labels = ('Recorded', 'Calculated'))\n",
    "plt.show"
   ]
  },
  {
   "cell_type": "code",
   "execution_count": null,
   "id": "1d94a927",
   "metadata": {},
   "outputs": [],
   "source": []
  }
 ],
 "metadata": {
  "kernelspec": {
   "display_name": "Python 3.9.5 64-bit ('3.9.5')",
   "language": "python",
   "name": "python3"
  },
  "language_info": {
   "codemirror_mode": {
    "name": "ipython",
    "version": 3
   },
   "file_extension": ".py",
   "mimetype": "text/x-python",
   "name": "python",
   "nbconvert_exporter": "python",
   "pygments_lexer": "ipython3",
   "version": "3.9.5"
  },
  "vscode": {
   "interpreter": {
    "hash": "f8ee0486d0b859810a2c6de8194e31e04614babcdd3c5c9e51efa86022ed17a3"
   }
  }
 },
 "nbformat": 4,
 "nbformat_minor": 5
}
