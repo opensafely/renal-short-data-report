{
 "cells": [
  {
   "cell_type": "markdown",
   "metadata": {},
   "source": [
    "## Coding of kidney function pathology tests in OpenSAFELY"
   ]
  },
  {
   "cell_type": "markdown",
   "metadata": {},
   "source": [
    "The aim of this notebook is to describe the prevalence of coding for pathology test results related to kidney function in primary care. This includes creatinine, creatinine clearance and eGFR. For these test results, we describe the incidence of recorded codes in the general population and those at risk of CKD, with a breakdown by key demographic variables. For each test, we describe the proportion of codes with numeric values attached and the operators attached to these numeric values. Where numeric values are attached to codes, we describe the distribution of test result values."
   ]
  },
  {
   "cell_type": "markdown",
   "metadata": {},
   "source": [
    "### Creatinine\n",
    "Coding of creatinine tests between January 2019 and February 2022 in the general population (**left**) and at risk population (**right**).\n",
    "\n",
    "Codelist ([link](https://www.opencodelists.org/codelist/user/bangzheng/creatinine/7a202b3a/))"
   ]
  },
  {
   "cell_type": "code",
   "execution_count": 16,
   "metadata": {},
   "outputs": [
    {
     "data": {
      "application/vnd.jupyter.widget-view+json": {
       "model_id": "eb7d04f362644c369ac2b74454284b3b",
       "version_major": 2,
       "version_minor": 0
      },
      "text/plain": [
       "HBox(children=(Image(value=b'\\xff\\xd8\\xff\\xe0\\x00\\x10JFIF\\x00\\x01\\x01\\x01\\x00d\\x00d\\x00\\x00\\xff\\xdb\\x00C\\x00\\x…"
      ]
     },
     "metadata": {},
     "output_type": "display_data"
    }
   ],
   "source": [
    "from IPython.display import Image, HTML\n",
    "import ipywidgets as widgets\n",
    "import IPython.display as display\n",
    "\n",
    "\n",
    "creatinine_population = open(\"../output/figures/plot_creatinine_population.jpeg\", 'rb').read()\n",
    "creatinine_at_risk = open(\"../output/figures/plot_creatinine_at_risk.jpeg\", 'rb').read()\n",
    "wi1 = widgets.Image(value=creatinine_population, format='png', width=600, height=400)\n",
    "wi2 = widgets.Image(value=creatinine_at_risk, format='png', width=600, height=400)\n",
    "sidebyside = widgets.HBox([wi1, wi2])\n",
    "display.display(sidebyside)\n"
   ]
  },
  {
   "cell_type": "markdown",
   "metadata": {},
   "source": [
    "Total count for codes used"
   ]
  },
  {
   "cell_type": "code",
   "execution_count": 20,
   "metadata": {},
   "outputs": [
    {
     "data": {
      "text/html": [
       "<table border=\"1\" class=\"dataframe\">\n",
       "  <thead>\n",
       "    <tr style=\"text-align: right;\">\n",
       "      <th>Code</th>\n",
       "      <th>Count</th>\n",
       "    </tr>\n",
       "  </thead>\n",
       "  <tbody>\n",
       "    <tr>\n",
       "      <td>1000731000000107</td>\n",
       "      <td>18940</td>\n",
       "    </tr>\n",
       "    <tr>\n",
       "      <td>1000981000000109</td>\n",
       "      <td>19060</td>\n",
       "    </tr>\n",
       "  </tbody>\n",
       "</table>"
      ],
      "text/plain": [
       "<IPython.core.display.HTML object>"
      ]
     },
     "metadata": {},
     "output_type": "display_data"
    }
   ],
   "source": [
    "import pandas as pd\n",
    "creatinine_code_table = pd.read_csv('../output/creatinine_codes_count_all.csv')\n",
    "\n",
    "def get_code_count(code_table):\n",
    "   \n",
    "    code_table.columns = ['Code', 'Count']\n",
    "    code_table.drop\n",
    "    display.display(HTML(code_table.to_html(index=False)))\n",
    "\n",
    "get_code_count(creatinine_code_table)"
   ]
  },
  {
   "cell_type": "markdown",
   "metadata": {},
   "source": [
    "Total count of numeric values attached to each code"
   ]
  },
  {
   "cell_type": "code",
   "execution_count": 21,
   "metadata": {},
   "outputs": [
    {
     "data": {
      "text/html": [
       "<table border=\"1\" class=\"dataframe\">\n",
       "  <thead>\n",
       "    <tr style=\"text-align: right;\">\n",
       "      <th>Code</th>\n",
       "      <th>Count</th>\n",
       "    </tr>\n",
       "  </thead>\n",
       "  <tbody>\n",
       "    <tr>\n",
       "      <td>1000731000000107</td>\n",
       "      <td>18940</td>\n",
       "    </tr>\n",
       "    <tr>\n",
       "      <td>1000981000000109</td>\n",
       "      <td>19060</td>\n",
       "    </tr>\n",
       "  </tbody>\n",
       "</table>"
      ],
      "text/plain": [
       "<IPython.core.display.HTML object>"
      ]
     },
     "metadata": {},
     "output_type": "display_data"
    }
   ],
   "source": [
    "creatinine_code_numeric_table = pd.read_csv('../output/creatinine_codes_count.csv')\n",
    "get_code_count(creatinine_code_numeric_table)"
   ]
  },
  {
   "cell_type": "markdown",
   "metadata": {},
   "source": [
    "### Creatinine clearance\n",
    "Coding of creatinine clearance tests between January 2019 and February 2022 in the general population (**left**) and at risk population (**right**).\n",
    "\n",
    "Codelist ([link](https://www.opencodelists.org/codelist/user/Louis/creatinine-clearance/6faa67ae/))"
   ]
  },
  {
   "cell_type": "markdown",
   "metadata": {},
   "source": [
    "Total count for codes used"
   ]
  },
  {
   "cell_type": "code",
   "execution_count": 23,
   "metadata": {},
   "outputs": [
    {
     "data": {
      "text/html": [
       "<table border=\"1\" class=\"dataframe\">\n",
       "  <thead>\n",
       "    <tr style=\"text-align: right;\">\n",
       "      <th>Code</th>\n",
       "      <th>Count</th>\n",
       "    </tr>\n",
       "  </thead>\n",
       "  <tbody>\n",
       "    <tr>\n",
       "      <td>102811001</td>\n",
       "      <td>18860</td>\n",
       "    </tr>\n",
       "    <tr>\n",
       "      <td>1015981000000103</td>\n",
       "      <td>19140</td>\n",
       "    </tr>\n",
       "  </tbody>\n",
       "</table>"
      ],
      "text/plain": [
       "<IPython.core.display.HTML object>"
      ]
     },
     "metadata": {},
     "output_type": "display_data"
    }
   ],
   "source": [
    "cr_cl_code_table = pd.read_csv('../output/cr_cl_codes_count_all.csv')\n",
    "\n",
    "\n",
    "get_code_count(cr_cl_code_table)\n",
    "\n"
   ]
  },
  {
   "cell_type": "markdown",
   "metadata": {},
   "source": [
    "Total count of numeric values attached to each code"
   ]
  },
  {
   "cell_type": "code",
   "execution_count": 25,
   "metadata": {},
   "outputs": [
    {
     "data": {
      "text/html": [
       "<table border=\"1\" class=\"dataframe\">\n",
       "  <thead>\n",
       "    <tr style=\"text-align: right;\">\n",
       "      <th>Code</th>\n",
       "      <th>Count</th>\n",
       "    </tr>\n",
       "  </thead>\n",
       "  <tbody>\n",
       "    <tr>\n",
       "      <td>102811001</td>\n",
       "      <td>18860</td>\n",
       "    </tr>\n",
       "    <tr>\n",
       "      <td>1015981000000103</td>\n",
       "      <td>19140</td>\n",
       "    </tr>\n",
       "  </tbody>\n",
       "</table>"
      ],
      "text/plain": [
       "<IPython.core.display.HTML object>"
      ]
     },
     "metadata": {},
     "output_type": "display_data"
    }
   ],
   "source": [
    "cr_cl_code_numeric_table = pd.read_csv('../output/cr_cl_codes_count.csv')\n",
    "get_code_count(cr_cl_code_numeric_table)"
   ]
  },
  {
   "cell_type": "markdown",
   "metadata": {},
   "source": [
    "### eGFR\n",
    "Coding of eGFR tests between January 2019 and February 2022 in the general population (**left**) and at risk population (**right**).\n",
    "\n",
    "Codelist ([link](https://www.opencodelists.org/codelist/user/ss808/estimated-glomerular-filtration-rate-egfr-recorded-tests/76a6b7b5))\n"
   ]
  },
  {
   "cell_type": "markdown",
   "metadata": {},
   "source": [
    "Total count for codes used\n"
   ]
  },
  {
   "cell_type": "code",
   "execution_count": 27,
   "metadata": {},
   "outputs": [
    {
     "data": {
      "text/html": [
       "<table border=\"1\" class=\"dataframe\">\n",
       "  <thead>\n",
       "    <tr style=\"text-align: right;\">\n",
       "      <th>Code</th>\n",
       "      <th>Count</th>\n",
       "    </tr>\n",
       "  </thead>\n",
       "  <tbody>\n",
       "    <tr>\n",
       "      <td>1011481000000105</td>\n",
       "      <td>18995</td>\n",
       "    </tr>\n",
       "    <tr>\n",
       "      <td>1011491000000107</td>\n",
       "      <td>19005</td>\n",
       "    </tr>\n",
       "  </tbody>\n",
       "</table>"
      ],
      "text/plain": [
       "<IPython.core.display.HTML object>"
      ]
     },
     "metadata": {},
     "output_type": "display_data"
    }
   ],
   "source": [
    "egfr_code_table = pd.read_csv('../output/egfr_codes_count_all.csv')\n",
    "\n",
    "\n",
    "get_code_count(egfr_code_table)\n",
    "\n"
   ]
  },
  {
   "cell_type": "markdown",
   "metadata": {},
   "source": [
    "\n",
    "Total count of numeric values attached to each code\n"
   ]
  },
  {
   "cell_type": "code",
   "execution_count": 28,
   "metadata": {},
   "outputs": [
    {
     "data": {
      "text/html": [
       "<table border=\"1\" class=\"dataframe\">\n",
       "  <thead>\n",
       "    <tr style=\"text-align: right;\">\n",
       "      <th>Code</th>\n",
       "      <th>Count</th>\n",
       "    </tr>\n",
       "  </thead>\n",
       "  <tbody>\n",
       "    <tr>\n",
       "      <td>1011481000000105</td>\n",
       "      <td>18995</td>\n",
       "    </tr>\n",
       "    <tr>\n",
       "      <td>1011491000000107</td>\n",
       "      <td>19005</td>\n",
       "    </tr>\n",
       "  </tbody>\n",
       "</table>"
      ],
      "text/plain": [
       "<IPython.core.display.HTML object>"
      ]
     },
     "metadata": {},
     "output_type": "display_data"
    }
   ],
   "source": [
    "egfr_code_numeric_table = pd.read_csv('../output/egfr_codes_count.csv')\n",
    "get_code_count(egfr_code_numeric_table)"
   ]
  }
 ],
 "metadata": {
  "interpreter": {
   "hash": "5cf590adf64b12f100e2631293f66eedf21812d31d21d345d3dafaac5b13c0f5"
  },
  "kernelspec": {
   "display_name": "Python 3.9.6 64-bit",
   "language": "python",
   "name": "python3"
  },
  "language_info": {
   "codemirror_mode": {
    "name": "ipython",
    "version": 3
   },
   "file_extension": ".py",
   "mimetype": "text/x-python",
   "name": "python",
   "nbconvert_exporter": "python",
   "pygments_lexer": "ipython3",
   "version": "3.9.6"
  },
  "orig_nbformat": 4
 },
 "nbformat": 4,
 "nbformat_minor": 2
}
